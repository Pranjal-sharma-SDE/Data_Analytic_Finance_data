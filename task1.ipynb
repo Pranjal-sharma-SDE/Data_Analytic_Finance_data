{
 "cells": [
  {
   "cell_type": "code",
   "execution_count": 1,
   "metadata": {},
   "outputs": [],
   "source": [
    "import pandas as pd"
   ]
  },
  {
   "cell_type": "code",
   "execution_count": 3,
   "metadata": {},
   "outputs": [],
   "source": [
    "# Load the trade log data from the CSV file\n",
    "trade_data = pd.read_csv('tradelog.csv')"
   ]
  },
  {
   "cell_type": "code",
   "execution_count": 4,
   "metadata": {},
   "outputs": [],
   "source": [
    "# Constants\n",
    "initial_portfolio_value = 6500\n",
    "risk_free_rate = 0.05"
   ]
  },
  {
   "cell_type": "code",
   "execution_count": 7,
   "metadata": {},
   "outputs": [
    {
     "data": {
      "text/plain": [
       "249"
      ]
     },
     "execution_count": 7,
     "metadata": {},
     "output_type": "execute_result"
    }
   ],
   "source": [
    "\n",
    "# 1. Total Trades\n",
    "total_trades = len(trade_data)\n",
    "total_trades"
   ]
  },
  {
   "cell_type": "code",
   "execution_count": 8,
   "metadata": {},
   "outputs": [
    {
     "data": {
      "text/plain": [
       "153"
      ]
     },
     "execution_count": 8,
     "metadata": {},
     "output_type": "execute_result"
    }
   ],
   "source": [
    "# 2. Profitable Trades\n",
    "profitable_trades = len(trade_data[trade_data['Exit Price'] > trade_data['Entry Price']])\n",
    "\n",
    "profitable_trades"
   ]
  },
  {
   "cell_type": "code",
   "execution_count": 10,
   "metadata": {},
   "outputs": [
    {
     "data": {
      "text/plain": [
       "96"
      ]
     },
     "execution_count": 10,
     "metadata": {},
     "output_type": "execute_result"
    }
   ],
   "source": [
    "# 3. Loss-Making Trades\n",
    "loss_making_trades = total_trades - profitable_trades\n",
    "loss_making_trades"
   ]
  },
  {
   "cell_type": "code",
   "execution_count": 12,
   "metadata": {},
   "outputs": [
    {
     "data": {
      "text/plain": [
       "0.6144578313253012"
      ]
     },
     "execution_count": 12,
     "metadata": {},
     "output_type": "execute_result"
    }
   ],
   "source": [
    "\n",
    "# 4. Win rate\n",
    "win_rate = profitable_trades / total_trades\n",
    "\n",
    "win_rate\n"
   ]
  },
  {
   "cell_type": "code",
   "execution_count": 14,
   "metadata": {},
   "outputs": [
    {
     "data": {
      "text/plain": [
       "6.065863453815262"
      ]
     },
     "execution_count": 14,
     "metadata": {},
     "output_type": "execute_result"
    }
   ],
   "source": [
    "# 5. Average Profit per trade\n",
    "average_profit_per_trade = ((trade_data['Exit Price'] - trade_data['Entry Price']).sum()) / total_trades\n",
    "\n",
    "average_profit_per_trade"
   ]
  },
  {
   "cell_type": "code",
   "execution_count": 15,
   "metadata": {},
   "outputs": [
    {
     "data": {
      "text/plain": [
       "-6.065863453815262"
      ]
     },
     "execution_count": 15,
     "metadata": {},
     "output_type": "execute_result"
    }
   ],
   "source": [
    "\n",
    "# 6. Average Loss per trade\n",
    "average_loss_per_trade = ((trade_data['Entry Price'] - trade_data['Exit Price']).sum()) / total_trades\n",
    "\n",
    "average_loss_per_trade"
   ]
  },
  {
   "cell_type": "code",
   "execution_count": 16,
   "metadata": {},
   "outputs": [
    {
     "data": {
      "text/plain": [
       "-1.0"
      ]
     },
     "execution_count": 16,
     "metadata": {},
     "output_type": "execute_result"
    }
   ],
   "source": [
    "# 7. Risk Reward ratio\n",
    "risk_reward_ratio = average_profit_per_trade / average_loss_per_trade\n",
    "\n",
    "risk_reward_ratio"
   ]
  },
  {
   "cell_type": "code",
   "execution_count": 17,
   "metadata": {},
   "outputs": [
    {
     "data": {
      "text/plain": [
       "6.065863453815262"
      ]
     },
     "execution_count": 17,
     "metadata": {},
     "output_type": "execute_result"
    }
   ],
   "source": [
    "# 8. Expectancy\n",
    "loss_rate = 1 - win_rate\n",
    "expectancy = (win_rate * average_profit_per_trade) - (loss_rate * average_loss_per_trade)\n",
    "\n",
    "expectancy"
   ]
  },
  {
   "cell_type": "code",
   "execution_count": 18,
   "metadata": {},
   "outputs": [
    {
     "data": {
      "text/plain": [
       "0.0027420748322553065"
      ]
     },
     "execution_count": 18,
     "metadata": {},
     "output_type": "execute_result"
    }
   ],
   "source": [
    "# 9. Average ROR per trade\n",
    "average_return_excess_rf = (average_profit_per_trade - average_loss_per_trade) / initial_portfolio_value\n",
    "volatility = trade_data['Exit Price'].pct_change().std()\n",
    "average_ror_per_trade = average_return_excess_rf / volatility\n",
    "\n",
    "average_ror_per_trade"
   ]
  },
  {
   "cell_type": "code",
   "execution_count": 19,
   "metadata": {},
   "outputs": [
    {
     "data": {
      "text/plain": [
       "-0.07071608386751319"
      ]
     },
     "execution_count": 19,
     "metadata": {},
     "output_type": "execute_result"
    }
   ],
   "source": [
    "# 10. Sharpe Ratio\n",
    "sharpe_ratio = (average_return_excess_rf - risk_free_rate) / volatility\n",
    "\n",
    "sharpe_ratio"
   ]
  },
  {
   "cell_type": "code",
   "execution_count": 20,
   "metadata": {},
   "outputs": [
    {
     "data": {
      "text/plain": [
       "-0.7738081059505879"
      ]
     },
     "execution_count": 20,
     "metadata": {},
     "output_type": "execute_result"
    }
   ],
   "source": [
    "# 11. Max Drawdown\n",
    "cumulative_return = (trade_data['Exit Price'] / trade_data['Entry Price']).cumprod()\n",
    "max_drawdown = (cumulative_return / cumulative_return.cummax() - 1).min()\n",
    "\n",
    "max_drawdown"
   ]
  },
  {
   "cell_type": "code",
   "execution_count": 21,
   "metadata": {},
   "outputs": [
    {
     "data": {
      "text/plain": [
       "-77.38081059505879"
      ]
     },
     "execution_count": 21,
     "metadata": {},
     "output_type": "execute_result"
    }
   ],
   "source": [
    "# 12. Max Drawdown Percentage\n",
    "max_drawdown_percentage = max_drawdown * 100\n",
    "\n",
    "max_drawdown_percentage"
   ]
  },
  {
   "cell_type": "code",
   "execution_count": 22,
   "metadata": {},
   "outputs": [
    {
     "data": {
      "text/plain": [
       "-0.0157749575355961"
      ]
     },
     "execution_count": 22,
     "metadata": {},
     "output_type": "execute_result"
    }
   ],
   "source": [
    "# 13. CAGR\n",
    "ending_value = trade_data['Exit Price'].iloc[-1]\n",
    "beginning_value = initial_portfolio_value\n",
    "no_of_periods = total_trades\n",
    "cagr = (ending_value / beginning_value) ** (1 / no_of_periods) - 1\n",
    "\n",
    "cagr"
   ]
  },
  {
   "cell_type": "code",
   "execution_count": 23,
   "metadata": {},
   "outputs": [
    {
     "data": {
      "text/plain": [
       "-0.02038613632279968"
      ]
     },
     "execution_count": 23,
     "metadata": {},
     "output_type": "execute_result"
    }
   ],
   "source": [
    "# 14. Calmar Ratio\n",
    "calmar_ratio = cagr / abs(max_drawdown)\n",
    "\n",
    "calmar_ratio"
   ]
  },
  {
   "cell_type": "code",
   "execution_count": 25,
   "metadata": {},
   "outputs": [],
   "source": [
    "# Create a results DataFrame\n",
    "results = pd.DataFrame({\n",
    "    'Parameter': ['Total Trades', 'Profitable Trades', 'Loss-Making Trades', 'Win rate',\n",
    "                  'Average Profit per trade', 'Average Loss per trade', 'Risk Reward ratio', 'Expectancy',\n",
    "                  'Average ROR per trade', 'Sharpe Ratio', 'Max Drawdown', 'Max Drawdown Percentage', 'CAGR', 'Calmar Ratio'],\n",
    "    'Value': [total_trades, profitable_trades, loss_making_trades, win_rate,\n",
    "              average_profit_per_trade, average_loss_per_trade, risk_reward_ratio, expectancy,\n",
    "              average_ror_per_trade, sharpe_ratio, max_drawdown, max_drawdown_percentage, cagr, calmar_ratio]\n",
    "})\n",
    "\n",
    "# Display the results\n",
    "results\n",
    "\n",
    "# Save the results to a CSV file\n",
    "\n",
    "results.to_csv('results.csv', index=False)\n"
   ]
  },
  {
   "cell_type": "code",
   "execution_count": null,
   "metadata": {},
   "outputs": [],
   "source": []
  }
 ],
 "metadata": {
  "kernelspec": {
   "display_name": "Python 3",
   "language": "python",
   "name": "python3"
  },
  "language_info": {
   "codemirror_mode": {
    "name": "ipython",
    "version": 3
   },
   "file_extension": ".py",
   "mimetype": "text/x-python",
   "name": "python",
   "nbconvert_exporter": "python",
   "pygments_lexer": "ipython3",
   "version": "3.11.0"
  }
 },
 "nbformat": 4,
 "nbformat_minor": 2
}
